{
 "cells": [
  {
   "cell_type": "code",
   "execution_count": 1,
   "id": "e624f6dd",
   "metadata": {},
   "outputs": [],
   "source": [
    "import numpy as np\n",
    "from scipy.stats import norm"
   ]
  },
  {
   "cell_type": "code",
   "execution_count": 2,
   "id": "86a5f1d6",
   "metadata": {},
   "outputs": [],
   "source": [
    "def black_scholes(S, K, r, T, sigma, option_type='call'):\n",
    "    \"\"\"\n",
    "    Black-Scholes model for pricing European options.\n",
    "\n",
    "    Parameters:\n",
    "    S (float): Current price of the underlying asset\n",
    "    K (float): Strike price of the option\n",
    "    r (float): Risk-free interest rate (annual)\n",
    "    T (float): Time to expiration (in years)\n",
    "    sigma (float): Volatility of the underlying asset (annual)\n",
    "    option_type (str): Type of option ('call' or 'put')\n",
    "\n",
    "    Returns:\n",
    "    float: Price of the option\n",
    "    \"\"\"\n",
    "    # Calculate d1 and d2\n",
    "    d1 = (np.log(S / K) + (r + 0.5 * sigma**2) * T) / (sigma * np.sqrt(T))\n",
    "    d2 = d1 - sigma * np.sqrt(T)\n",
    "\n",
    "    # Calculate option price\n",
    "    if option_type == 'call':\n",
    "        return S * norm.cdf(d1) - K * np.exp(-r * T) * norm.cdf(d2)\n",
    "    elif option_type == 'put':\n",
    "        return K * np.exp(-r * T) * norm.cdf(-d2) - S * norm.cdf(-d1)\n",
    "    else:\n",
    "        raise ValueError(\"Invalid option type. Must be 'call' or 'put'.\")\n"
   ]
  },
  {
   "cell_type": "code",
   "execution_count": null,
   "id": "5dab9f07",
   "metadata": {},
   "outputs": [],
   "source": []
  },
  {
   "cell_type": "code",
   "execution_count": null,
   "id": "bf31fe55",
   "metadata": {},
   "outputs": [],
   "source": []
  },
  {
   "cell_type": "code",
   "execution_count": 3,
   "id": "30207f21",
   "metadata": {},
   "outputs": [],
   "source": [
    "S = 100  # Current stock price\n",
    "K = 105  # Strike price\n",
    "r = 0.05  # Risk-free interest rate\n",
    "T = 1     # Time to expiration (in years)\n",
    "sigma = 0.2  # Volatility"
   ]
  },
  {
   "cell_type": "code",
   "execution_count": null,
   "id": "fe6bfa81",
   "metadata": {},
   "outputs": [],
   "source": []
  },
  {
   "cell_type": "code",
   "execution_count": 4,
   "id": "2e882a70",
   "metadata": {},
   "outputs": [],
   "source": [
    "call_price = black_scholes(S, K, r, T, sigma, option_type='call')\n",
    "put_price = black_scholes(S, K, r, T, sigma, option_type='put')"
   ]
  },
  {
   "cell_type": "code",
   "execution_count": null,
   "id": "f757cf05",
   "metadata": {},
   "outputs": [],
   "source": []
  },
  {
   "cell_type": "code",
   "execution_count": 5,
   "id": "17229867",
   "metadata": {},
   "outputs": [
    {
     "data": {
      "text/plain": [
       "8.021352235143176"
      ]
     },
     "execution_count": 5,
     "metadata": {},
     "output_type": "execute_result"
    }
   ],
   "source": [
    "call_price"
   ]
  },
  {
   "cell_type": "code",
   "execution_count": 6,
   "id": "0b4c92d4",
   "metadata": {},
   "outputs": [
    {
     "data": {
      "text/plain": [
       "7.9004418077181455"
      ]
     },
     "execution_count": 6,
     "metadata": {},
     "output_type": "execute_result"
    }
   ],
   "source": [
    "put_price"
   ]
  },
  {
   "cell_type": "code",
   "execution_count": null,
   "id": "58a4a0a4",
   "metadata": {},
   "outputs": [],
   "source": []
  }
 ],
 "metadata": {
  "kernelspec": {
   "display_name": "Python 3 (ipykernel)",
   "language": "python",
   "name": "python3"
  },
  "language_info": {
   "codemirror_mode": {
    "name": "ipython",
    "version": 3
   },
   "file_extension": ".py",
   "mimetype": "text/x-python",
   "name": "python",
   "nbconvert_exporter": "python",
   "pygments_lexer": "ipython3",
   "version": "3.9.13"
  }
 },
 "nbformat": 4,
 "nbformat_minor": 5
}
